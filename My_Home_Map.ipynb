{
  "cells": [
    {
      "cell_type": "markdown",
      "metadata": {
        "id": "view-in-github",
        "colab_type": "text"
      },
      "source": [
        "<a href=\"https://colab.research.google.com/github/pallavisklm/sklm/blob/main/My_Home_Map.ipynb\" target=\"_parent\"><img src=\"https://colab.research.google.com/assets/colab-badge.svg\" alt=\"Open In Colab\"/></a>"
      ]
    },
    {
      "cell_type": "code",
      "execution_count": null,
      "metadata": {
        "id": "jD0XwDpfheTZ"
      },
      "outputs": [],
      "source": [
        "import folium\n",
        "from folium.plugins import MarkerCluster\n",
        "import pandas as pd\n",
        "import numpy as np"
      ]
    },
    {
      "cell_type": "code",
      "execution_count": null,
      "metadata": {
        "id": "JfTxMJSxheTc"
      },
      "outputs": [],
      "source": [
        "coords=[[14.4673, 78.8242],[14.2710,79.1069],[14.1969,79.1555],\n",
        "        [13.9598,79.3500],[13.6288,79.4192],[13.6373,79.5037],\n",
        "        [13.7527,79.7067],[14.0445,79.7564],[14.1463,79.8504],\n",
        "        [14.4426,79.9865],[14.9132,79.9930],[15.5057,80.0499],\n",
        "        [15.8167,80.3587],[15.9039,80.4671],[16.0613, 80.5645],\n",
        "        [16.2379,80.6444],[16.5062,80.6480],[16.7850, 80.8488]]"
      ]
    },
    {
      "cell_type": "code",
      "execution_count": null,
      "metadata": {
        "id": "Q2n_bidlheTd"
      },
      "outputs": [],
      "source": [
        "from branca.element import Figure\n",
        "fig5=Figure()\n",
        "map5=folium.Map(location=[16.7850, 80.8488],tiles='cartodbpositron',zoom_start=7)\n",
        "fig5.add_child(map5)"
      ]
    },
    {
      "cell_type": "code",
      "execution_count": null,
      "metadata": {
        "id": "LVa2VNpnheTe"
      },
      "outputs": [],
      "source": [
        "f1=folium.FeatureGroup(\"route_1\")\n",
        "\n",
        "# Adding lines to the different feature groups\n",
        "line_1=folium.vector_layers.PolyLine(coords,popup='<b>path of route_1</b>',tooltip='route_1',color='blue',weight=9).add_to(f1)\n",
        "#Adding markers to the map\n",
        "folium.Marker(location=[16.7850,80.8488],tooltip='Nuzvid',icon=folium.Icon(color='blue',prefix='glyphicon',icon='off')).add_to(map5)\n",
        "folium.Marker(location=[15.5057,80.0499],tooltip='Ongole').add_to(map5)\n",
        "folium.Marker(location=[14.4426,79.9865],tooltip='Nellore').add_to(map5)\n",
        "folium.Marker(location=[13.6288,79.4192],tooltip='Tirupati').add_to(map5)\n",
        "\n",
        "f1.add_to(map5)\n",
        "folium.LayerControl().add_to(map5)\n",
        "map5"
      ]
    }
  ],
  "metadata": {
    "kernelspec": {
      "display_name": "Python 3",
      "language": "python",
      "name": "python3"
    },
    "language_info": {
      "codemirror_mode": {
        "name": "ipython",
        "version": 3
      },
      "file_extension": ".py",
      "mimetype": "text/x-python",
      "name": "python",
      "nbconvert_exporter": "python",
      "pygments_lexer": "ipython3",
      "version": "3.7.3"
    },
    "colab": {
      "name": "My Home Map.ipynb",
      "provenance": [],
      "include_colab_link": true
    }
  },
  "nbformat": 4,
  "nbformat_minor": 0
}